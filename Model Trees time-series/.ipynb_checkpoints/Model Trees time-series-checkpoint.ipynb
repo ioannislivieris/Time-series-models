{
 "cells": [
  {
   "cell_type": "markdown",
   "metadata": {},
   "source": [
    "# Libraries"
   ]
  },
  {
   "cell_type": "code",
   "execution_count": null,
   "metadata": {},
   "outputs": [],
   "source": [
    "import warnings\n",
    "warnings.filterwarnings(\"ignore\")"
   ]
  },
  {
   "cell_type": "code",
   "execution_count": 2,
   "metadata": {},
   "outputs": [],
   "source": [
    "# =-=-=-=-=-=-=-=-=-=-=-=-=-=-=-=-=-=-=-=-=-=-=-=-=-=-=-=-=-=-=-=-=-=-=-=-=-=-=-=-=-=\n",
    "# Built-in libraries\n",
    "#\n",
    "import time\n",
    "import numpy    as np\n",
    "import pandas   as pd\n",
    "from   tqdm     import tqdm\n",
    "\n",
    "\n",
    "\n",
    "# =-=-=-=-=-=-=-=-=-=-=-=-=-=-=-=-=-=-=-=-=-=-=-=-=-=-=-=-=-=-=-=-=-=-=-=-=-=-=-=-=-=\n",
    "# Visualization libraries\n",
    "#\n",
    "import matplotlib.pyplot as plt\n",
    "\n",
    "\n",
    "# =-=-=-=-=-=-=-=-=-=-=-=-=-=-=-=-=-=-=-=-=-=-=-=-=-=-=-=-=-=-=-=-=-=-=-=-=-=-=-=-=-=\n",
    "# Sklearn library\n",
    "#\n",
    "from sklearn.linear_model    import *\n",
    "from sklearn.model_selection import train_test_split, GridSearchCV\n",
    "\n",
    "\n",
    "# =-=-=-=-=-=-=-=-=-=-=-=-=-=-=-=-=-=-=-=-=-=-=-=-=-=-=-=-=-=-=-=-=-=-=-=-=-=-=-=-=-=\n",
    "# Linear Trees library\n",
    "#\n",
    "from lineartree import LinearTreeRegressor\n",
    "\n",
    "\n",
    "# =-=-=-=-=-=-=-=-=-=-=-=-=-=-=-=-=-=-=-=-=-=-=-=-=-=-=-=-=-=-=-=-=-=-=-=-=-=-=-=-=-=\n",
    "# User library\n",
    "#\n",
    "from utils.PerformanceMetrics     import *"
   ]
  },
  {
   "cell_type": "markdown",
   "metadata": {},
   "source": [
    "# Import data"
   ]
  },
  {
   "cell_type": "code",
   "execution_count": 3,
   "metadata": {},
   "outputs": [
    {
     "name": "stdout",
     "output_type": "stream",
     "text": [
      "[INFO] Dataset loaded\n",
      "[INFO] Time 0.01\n"
     ]
    },
    {
     "data": {
      "text/html": [
       "<div>\n",
       "<style scoped>\n",
       "    .dataframe tbody tr th:only-of-type {\n",
       "        vertical-align: middle;\n",
       "    }\n",
       "\n",
       "    .dataframe tbody tr th {\n",
       "        vertical-align: top;\n",
       "    }\n",
       "\n",
       "    .dataframe thead th {\n",
       "        text-align: right;\n",
       "    }\n",
       "</style>\n",
       "<table border=\"1\" class=\"dataframe\">\n",
       "  <thead>\n",
       "    <tr style=\"text-align: right;\">\n",
       "      <th></th>\n",
       "      <th>Date</th>\n",
       "      <th>Temperature</th>\n",
       "    </tr>\n",
       "  </thead>\n",
       "  <tbody>\n",
       "    <tr>\n",
       "      <th>0</th>\n",
       "      <td>2015-02-11 14:48:00</td>\n",
       "      <td>21.7600</td>\n",
       "    </tr>\n",
       "    <tr>\n",
       "      <th>1</th>\n",
       "      <td>2015-02-11 14:49:00</td>\n",
       "      <td>21.7900</td>\n",
       "    </tr>\n",
       "    <tr>\n",
       "      <th>2</th>\n",
       "      <td>2015-02-11 14:50:00</td>\n",
       "      <td>21.7675</td>\n",
       "    </tr>\n",
       "    <tr>\n",
       "      <th>3</th>\n",
       "      <td>2015-02-11 14:51:00</td>\n",
       "      <td>21.7675</td>\n",
       "    </tr>\n",
       "    <tr>\n",
       "      <th>4</th>\n",
       "      <td>2015-02-11 14:52:00</td>\n",
       "      <td>21.7900</td>\n",
       "    </tr>\n",
       "  </tbody>\n",
       "</table>\n",
       "</div>"
      ],
      "text/plain": [
       "                  Date  Temperature\n",
       "0  2015-02-11 14:48:00      21.7600\n",
       "1  2015-02-11 14:49:00      21.7900\n",
       "2  2015-02-11 14:50:00      21.7675\n",
       "3  2015-02-11 14:51:00      21.7675\n",
       "4  2015-02-11 14:52:00      21.7900"
      ]
     },
     "execution_count": 3,
     "metadata": {},
     "output_type": "execute_result"
    }
   ],
   "source": [
    "# Start timer\n",
    "#\n",
    "start = time.time()\n",
    "\n",
    "\n",
    "# Load dataset\n",
    "#\n",
    "df = pd.read_csv('Data/Temperature.csv')\n",
    "print('[INFO] Dataset loaded')\n",
    "\n",
    "\n",
    "# Stop timer\n",
    "#\n",
    "print('[INFO] Time %.2f' % (time.time() - start))\n",
    "\n",
    "\n",
    "df.head()"
   ]
  },
  {
   "cell_type": "markdown",
   "metadata": {},
   "source": [
    "## Preprocess"
   ]
  },
  {
   "cell_type": "markdown",
   "metadata": {},
   "source": [
    "### Set index"
   ]
  },
  {
   "cell_type": "code",
   "execution_count": 4,
   "metadata": {},
   "outputs": [],
   "source": [
    "df['Date'] = df['Date'].astype('datetime64')\n",
    "df.set_index('Date', inplace=True)"
   ]
  },
  {
   "cell_type": "markdown",
   "metadata": {},
   "source": [
    "### Create features based on data"
   ]
  },
  {
   "cell_type": "code",
   "execution_count": 5,
   "metadata": {},
   "outputs": [
    {
     "data": {
      "text/html": [
       "<div>\n",
       "<style scoped>\n",
       "    .dataframe tbody tr th:only-of-type {\n",
       "        vertical-align: middle;\n",
       "    }\n",
       "\n",
       "    .dataframe tbody tr th {\n",
       "        vertical-align: top;\n",
       "    }\n",
       "\n",
       "    .dataframe thead th {\n",
       "        text-align: right;\n",
       "    }\n",
       "</style>\n",
       "<table border=\"1\" class=\"dataframe\">\n",
       "  <thead>\n",
       "    <tr style=\"text-align: right;\">\n",
       "      <th></th>\n",
       "      <th>Temperature</th>\n",
       "      <th>Hour</th>\n",
       "      <th>Minute</th>\n",
       "      <th>Wday</th>\n",
       "      <th>Month</th>\n",
       "      <th>is_weekend</th>\n",
       "    </tr>\n",
       "    <tr>\n",
       "      <th>Date</th>\n",
       "      <th></th>\n",
       "      <th></th>\n",
       "      <th></th>\n",
       "      <th></th>\n",
       "      <th></th>\n",
       "      <th></th>\n",
       "    </tr>\n",
       "  </thead>\n",
       "  <tbody>\n",
       "    <tr>\n",
       "      <th>2015-02-11 14:48:00</th>\n",
       "      <td>21.7600</td>\n",
       "      <td>14</td>\n",
       "      <td>48</td>\n",
       "      <td>2</td>\n",
       "      <td>2</td>\n",
       "      <td>0</td>\n",
       "    </tr>\n",
       "    <tr>\n",
       "      <th>2015-02-11 14:49:00</th>\n",
       "      <td>21.7900</td>\n",
       "      <td>14</td>\n",
       "      <td>49</td>\n",
       "      <td>2</td>\n",
       "      <td>2</td>\n",
       "      <td>0</td>\n",
       "    </tr>\n",
       "    <tr>\n",
       "      <th>2015-02-11 14:50:00</th>\n",
       "      <td>21.7675</td>\n",
       "      <td>14</td>\n",
       "      <td>50</td>\n",
       "      <td>2</td>\n",
       "      <td>2</td>\n",
       "      <td>0</td>\n",
       "    </tr>\n",
       "    <tr>\n",
       "      <th>2015-02-11 14:51:00</th>\n",
       "      <td>21.7675</td>\n",
       "      <td>14</td>\n",
       "      <td>51</td>\n",
       "      <td>2</td>\n",
       "      <td>2</td>\n",
       "      <td>0</td>\n",
       "    </tr>\n",
       "  </tbody>\n",
       "</table>\n",
       "</div>"
      ],
      "text/plain": [
       "                     Temperature  Hour  Minute  Wday  Month  is_weekend\n",
       "Date                                                                   \n",
       "2015-02-11 14:48:00      21.7600    14      48     2      2           0\n",
       "2015-02-11 14:49:00      21.7900    14      49     2      2           0\n",
       "2015-02-11 14:50:00      21.7675    14      50     2      2           0\n",
       "2015-02-11 14:51:00      21.7675    14      51     2      2           0"
      ]
     },
     "execution_count": 5,
     "metadata": {},
     "output_type": "execute_result"
    }
   ],
   "source": [
    "df['Hour']       = df.index.hour\n",
    "df['Minute']     = df.index.minute\n",
    "df['Wday']       = df.index.dayofweek  # or dt.weekday\n",
    "df['Month']      = df.index.month\n",
    "df['is_weekend'] = np.where(df.index.weekday.isin([5,6]), 1, 0)\n",
    "\n",
    "df.head(4)"
   ]
  },
  {
   "cell_type": "markdown",
   "metadata": {},
   "source": [
    "# Training/Testing"
   ]
  },
  {
   "cell_type": "code",
   "execution_count": 6,
   "metadata": {},
   "outputs": [],
   "source": [
    "idx = int(df.shape[0] * 0.7)\n",
    "\n",
    "df_train = df[:idx]\n",
    "df_test  = df[idx:]"
   ]
  },
  {
   "cell_type": "markdown",
   "metadata": {},
   "source": [
    "## Visualization"
   ]
  },
  {
   "cell_type": "code",
   "execution_count": 7,
   "metadata": {},
   "outputs": [
    {
     "data": {
      "image/png": "[encoded data removed]",
      "text/plain": [
       "<Figure size 1440x216 with 1 Axes>"
      ]
     },
     "metadata": {
      "needs_background": "light"
     },
     "output_type": "display_data"
    }
   ],
   "source": [
    "plt.figure( figsize=(20, 3));\n",
    "\n",
    "df_train['Temperature'].plot(color='tab:blue');\n",
    "df_test['Temperature'].plot(color='tab:orange');\n",
    "\n",
    "plt.legend(['Train', 'Test'], frameon=False);"
   ]
  },
  {
   "cell_type": "markdown",
   "metadata": {},
   "source": [
    "## Create Training/Testing datasets"
   ]
  },
  {
   "cell_type": "code",
   "execution_count": 8,
   "metadata": {},
   "outputs": [],
   "source": [
    "# Parameters\n",
    "#\n",
    "Lag    = 5\n",
    "Target = 'Temperature'\n",
    "\n",
    "# Utility functions\n",
    "#\n",
    "def CreateDataset(df, Lag = 10, Target='Temperature'):\n",
    "    \n",
    "    # Re-arrange columns \n",
    "    #\n",
    "    columnsX = [col for col in df.columns if col != Target]\n",
    "    \n",
    "    \n",
    "    X, Y = [], []\n",
    "    for i in tqdm( range( df.shape[0]-Lag ) ):\n",
    "        \n",
    "        Instance  = df[Target][i:i+Lag].tolist()\n",
    "        Instance += df.iloc[i][ columnsX ].tolist()\n",
    "\n",
    "        X += [ Instance ]\n",
    "        Y += [ df[ Target][i] ]\n",
    "\n",
    "    return (np.asarray(X), np.asarray(Y))"
   ]
  },
  {
   "cell_type": "code",
   "execution_count": 9,
   "metadata": {},
   "outputs": [
    {
     "name": "stderr",
     "output_type": "stream",
     "text": [
      "100%|██████████| 6821/6821 [00:05<00:00, 1291.07it/s]\n",
      "100%|██████████| 2921/2921 [00:02<00:00, 1348.02it/s]"
     ]
    },
    {
     "name": "stdout",
     "output_type": "stream",
     "text": [
      "[INFO] Training data:  (6821, 10)\n",
      "[INFO] Testing data:   (2921, 10)\n"
     ]
    },
    {
     "name": "stderr",
     "output_type": "stream",
     "text": [
      "\n"
     ]
    }
   ],
   "source": [
    "trainX, trainY =  CreateDataset(df_train, Lag, Target)\n",
    "testX,  testY  =  CreateDataset(df_test, Lag,  Target)\n",
    "\n",
    "\n",
    "Features = ['Lag-{}'.format(i) for i in range(Lag,0,-1)] + [col for col in df.columns if col != Target]\n",
    "\n",
    "\n",
    "print('[INFO] Training data: ', trainX.shape)\n",
    "print('[INFO] Testing data:  ', testX.shape)"
   ]
  },
  {
   "cell_type": "markdown",
   "metadata": {},
   "source": [
    "# Linear Tree model"
   ]
  },
  {
   "cell_type": "markdown",
   "metadata": {},
   "source": [
    "## Hyperparameter optimization process"
   ]
  },
  {
   "cell_type": "code",
   "execution_count": 10,
   "metadata": {},
   "outputs": [
    {
     "name": "stdout",
     "output_type": "stream",
     "text": [
      "CPU times: user 966 ms, sys: 533 ms, total: 1.5 s\n",
      "Wall time: 3.46 s\n"
     ]
    }
   ],
   "source": [
    "%%time\n",
    "\n",
    "param_grid = {'max_depth': [1, 2, 3], 'min_samples_split': [0.4, 0.3, 0.2]}\n",
    "scoring    = 'neg_mean_squared_error' # 'r2'\n",
    "cv         = 10\n",
    "\n",
    "grid_search = GridSearchCV(estimator  = LinearTreeRegressor( Ridge() ), \n",
    "                           param_grid = param_grid, \n",
    "                           scoring    = scoring, \n",
    "                           n_jobs     = -1, \n",
    "                           cv         = cv,\n",
    "                           refit      = True)\n",
    "\n",
    "model = grid_search.fit(trainX, trainY)"
   ]
  },
  {
   "cell_type": "markdown",
   "metadata": {},
   "source": [
    "## Optimized hyperparameters"
   ]
  },
  {
   "cell_type": "code",
   "execution_count": 11,
   "metadata": {},
   "outputs": [
    {
     "name": "stdout",
     "output_type": "stream",
     "text": [
      "[INFO] Optimized hyperparameters\n",
      "\n",
      " >                max_depth: 1\n",
      " >        min_samples_split: 0.400\n"
     ]
    }
   ],
   "source": [
    "print('[INFO] Optimized hyperparameters\\n')\n",
    "\n",
    "for (parameter, value) in kgs.best_params_.items():\n",
    "    if ( isinstance(value, float) ):\n",
    "        print(' >%25s: %.3f' % (parameter, value))\n",
    "    else:\n",
    "        print(' >%25s: %s'   % (parameter, value))"
   ]
  },
  {
   "cell_type": "code",
   "execution_count": 12,
   "metadata": {},
   "outputs": [],
   "source": [
    "# Plot model decision path\n",
    "#\n",
    "# model.best_estimator_.plot_model(feature_names = Features)"
   ]
  },
  {
   "cell_type": "markdown",
   "metadata": {},
   "source": [
    "## Evaluation"
   ]
  },
  {
   "cell_type": "code",
   "execution_count": 13,
   "metadata": {},
   "outputs": [
    {
     "name": "stdout",
     "output_type": "stream",
     "text": [
      "> RMSE:   0.00371432168826493\n",
      "> MAE:    0.0023756235417443845\n",
      "> MAPE:   0.011325536538396554\n",
      "> SMAPE:  0.01132543661408053\n",
      "> R2:     0.9999638973938443\n"
     ]
    }
   ],
   "source": [
    "pred = model.predict(testX)\n",
    "\n",
    "print( \"> RMSE:  \", rmse(testY, pred))\n",
    "print( \"> MAE:   \", mae(testY, pred) )\n",
    "print( \"> MAPE:  \", mape(testY, pred) )\n",
    "print( \"> SMAPE: \", smape(testY, pred) )\n",
    "print( \"> R2:    \", R2(testY, pred) )\n"
   ]
  },
  {
   "cell_type": "code",
   "execution_count": 14,
   "metadata": {},
   "outputs": [
    {
     "data": {
      "image/png": "[encoded data removed]",
      "text/plain": [
       "<Figure size 1440x216 with 1 Axes>"
      ]
     },
     "metadata": {
      "needs_background": "light"
     },
     "output_type": "display_data"
    }
   ],
   "source": [
    "plt.figure( figsize=(20, 3));\n",
    "\n",
    "\n",
    "plt.plot(df_test.index[Lag:], df_test[ Target ][Lag:], color='tab:orange')\n",
    "plt.plot(df_test.index[Lag:], pred, linestyle='--', color='tab:red')\n",
    "\n",
    "plt.legend(['Temperature', 'Predictions'], frameon=False);"
   ]
  },
  {
   "cell_type": "code",
   "execution_count": null,
   "metadata": {},
   "outputs": [],
   "source": []
  }
 ],
 "metadata": {
  "kernelspec": {
   "display_name": "Python [conda env:.conda-dev_ili_v1] *",
   "language": "python",
   "name": "conda-env-.conda-dev_ili_v1-py"
  },
  "language_info": {
   "codemirror_mode": {
    "name": "ipython",
    "version": 3
   },
   "file_extension": ".py",
   "mimetype": "text/x-python",
   "name": "python",
   "nbconvert_exporter": "python",
   "pygments_lexer": "ipython3",
   "version": "3.7.7"
  }
 },
 "nbformat": 4,
 "nbformat_minor": 4
}
